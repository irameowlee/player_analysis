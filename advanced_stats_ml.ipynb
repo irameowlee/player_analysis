{
 "cells": [
  {
   "cell_type": "code",
   "execution_count": null,
   "id": "24d222ed-cddf-48cf-807b-9861db6bfb76",
   "metadata": {},
   "outputs": [],
   "source": [
    "import pandas as pd\n",
    "from sklearn.preprocessing import StandardScaler\n",
    "from sklearn.decomposition import PCA\n",
    "from sklearn.cluster import KMeans\n",
    "import hvplot.pandas\n",
    "import plotly.express as px"
   ]
  },
  {
   "cell_type": "code",
   "execution_count": null,
   "id": "988e4adb-573a-402f-9572-b9c12d4d4873",
   "metadata": {},
   "outputs": [],
   "source": [
    "#load the prepocessed data\n",
    "file_path = \"./advanced_stats_clean.csv\"\n",
    "stats_df = pd.read_csv(file_path)\n",
    "stats_df.head()"
   ]
  },
  {
   "cell_type": "code",
   "execution_count": null,
   "id": "2fb8135a-f559-493a-8b3f-c88d6e98b574",
   "metadata": {},
   "outputs": [],
   "source": [
    "# Standardize data\n",
    "stats_scaled = StandardScaler().fit_transform(stats_df)\n",
    "print(stats_df[0:5])"
   ]
  },
  {
   "cell_type": "code",
   "execution_count": null,
   "id": "a40ee81f-8a88-4535-b8b8-8742acf8a726",
   "metadata": {},
   "outputs": [],
   "source": [
    "# Initialize PCA model\n",
    "pca = PCA(n_components=2)"
   ]
  },
  {
   "cell_type": "code",
   "execution_count": null,
   "id": "1999454a-cbf5-4436-b110-fc6391889f12",
   "metadata": {},
   "outputs": [],
   "source": [
    "# get 2 prinicipal components \n",
    "stats_pca = pca.fit_transform(stats_scaled)"
   ]
  },
  {
   "cell_type": "code",
   "execution_count": null,
   "id": "5641fab8-84bc-4bd2-b8a4-fa007a940158",
   "metadata": {},
   "outputs": [],
   "source": [
    "# turn the PCA data into a DF\n",
    "stats_pca_df = pd.DataFrame(\n",
    "    data=nba_pca, columns=[\"principal component 1\", \"principal component 2\"])\n",
    "stats_pca_df.head()"
   ]
  },
  {
   "cell_type": "code",
   "execution_count": null,
   "id": "a8e91550-6240-41ba-aa76-8751f4c0f0cb",
   "metadata": {},
   "outputs": [],
   "source": [
    "# find value of K\n",
    "inertia = []\n",
    "k = list(range(1,11))\n",
    "\n",
    "#calculate the inertia for the range of K value\n",
    "for i in k:\n",
    "    km = KMeans(n_clusters=i, random_state=0)\n",
    "    km.fit(nba_pca_df)\n",
    "    inertia.append(km.inertia_)\n",
    "\n",
    "# create the elbow curve\n",
    "elbow_data = {\"k\": k, \"inertia\": inertia}\n",
    "df_elbow = pd.DataFrame(elbow_data)\n",
    "df_elbow.hvplot.line(x=\"k\", y=\"inertia\", xticks=k, title=\"Elbow Curve\")"
   ]
  },
  {
   "cell_type": "code",
   "execution_count": null,
   "id": "b22b6115-6b95-4554-b5bd-160b0a6d3dca",
   "metadata": {},
   "outputs": [],
   "source": [
    "# Initialize the K-means model\n",
    "model = KMeans(n_clusters=3, random_state=0)\n",
    "\n",
    "# Fit the model\n",
    "model.fit(stats_pca_df)\n",
    "\n",
    "# Predict clusters\n",
    "predictions = model.predict(stats_pca_df)\n",
    "\n",
    "# Add the predicted class columns\n",
    "stats_pca_df[\"class\"] = model.labels_\n",
    "stats_pca_df.head()"
   ]
  },
  {
   "cell_type": "code",
   "execution_count": null,
   "id": "93fb6bcb-12ee-4c88-917f-08ce8b0369c7",
   "metadata": {},
   "outputs": [],
   "source": [
    "stats_pca_df.hvplot.scatter(\n",
    "    x=\"principal component 1\",\n",
    "    y=\"principal component 2\",\n",
    "    hover_cols=[\"class\"],\n",
    "    by=\"class\",\n",
    ")"
   ]
  },
  {
   "cell_type": "code",
   "execution_count": null,
   "id": "0d1a460e-db34-4eb5-ba0b-5ba7210eade8",
   "metadata": {},
   "outputs": [],
   "source": []
  }
 ],
 "metadata": {
  "kernelspec": {
   "display_name": "mlenv",
   "language": "python",
   "name": "mlenv"
  },
  "language_info": {
   "codemirror_mode": {
    "name": "ipython",
    "version": 3
   },
   "file_extension": ".py",
   "mimetype": "text/x-python",
   "name": "python",
   "nbconvert_exporter": "python",
   "pygments_lexer": "ipython3",
   "version": "3.7.11"
  }
 },
 "nbformat": 4,
 "nbformat_minor": 5
}
