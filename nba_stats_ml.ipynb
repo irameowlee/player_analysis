{
 "cells": [
  {
   "cell_type": "code",
   "execution_count": null,
   "id": "05be115c-2145-4d99-a54c-01f7249ba3cc",
   "metadata": {},
   "outputs": [],
   "source": [
    "import pandas as pd\n",
    "from sklearn.preprocessing import StandardScaler\n",
    "from sklearn.decomposition import PCA\n",
    "from sklearn.cluster import KMeans\n",
    "import hvplot.pandas\n",
    "import plotly.express as px"
   ]
  },
  {
   "cell_type": "code",
   "execution_count": null,
   "id": "b9034aa0-7011-4576-8968-60de2499af2a",
   "metadata": {},
   "outputs": [],
   "source": [
    "#load the prepocessed data\n",
    "file_path = \"./nba_stats_clean.csv\"\n",
    "stats_df = pd.read_csv(file_path)\n",
    "stats_df.head()"
   ]
  },
  {
   "cell_type": "code",
   "execution_count": null,
   "id": "a3749b1d-aa6c-4ccd-8439-2a4043f52da9",
   "metadata": {},
   "outputs": [],
   "source": [
    "# Standardize data\n",
    "stats_scaled = StandardScaler().fit_transform(stats_df)\n",
    "print(stats_df[0:5])"
   ]
  },
  {
   "cell_type": "code",
   "execution_count": null,
   "id": "5b05b082-1318-4b77-a13d-685a0876868c",
   "metadata": {},
   "outputs": [],
   "source": [
    "# Initialize PCA model\n",
    "pca = PCA(n_components=2)"
   ]
  },
  {
   "cell_type": "code",
   "execution_count": null,
   "id": "486362d8-d3d1-4ddb-a2fa-069f074f5ad1",
   "metadata": {},
   "outputs": [],
   "source": [
    "# get 2 prinicipal components \n",
    "stats_pca = pca.fit_transform(stats_scaled)"
   ]
  },
  {
   "cell_type": "code",
   "execution_count": null,
   "id": "32137b4a-3b32-4601-990d-6ea813216f2f",
   "metadata": {},
   "outputs": [],
   "source": [
    "# turn the PCA data into a DF\n",
    "stats_pca_df = pd.DataFrame(\n",
    "    data=stats_pca, columns=[\"principal component 1\", \"principal component 2\"])\n",
    "stats_pca_df.head()"
   ]
  },
  {
   "cell_type": "code",
   "execution_count": null,
   "id": "341d37f6-98a8-419a-9958-c37a979461af",
   "metadata": {},
   "outputs": [],
   "source": [
    "# find value of K\n",
    "inertia = []\n",
    "k = list(range(1,11))\n",
    "\n",
    "#calculate the inertia for the range of K value\n",
    "for i in k:\n",
    "    km = KMeans(n_clusters=i, random_state=0)\n",
    "    km.fit(stats_pca_df)\n",
    "    inertia.append(km.inertia_)\n",
    "\n",
    "# create the elbow curve\n",
    "elbow_data = {\"k\": k, \"inertia\": inertia}\n",
    "df_elbow = pd.DataFrame(elbow_data)\n",
    "df_elbow.hvplot.line(x=\"k\", y=\"inertia\", xticks=k, title=\"Elbow Curve\")"
   ]
  },
  {
   "cell_type": "code",
   "execution_count": null,
   "id": "a6fa9b02-b4c2-4e38-a0c2-7f0b3b516d41",
   "metadata": {},
   "outputs": [],
   "source": [
    "# Initialize the K-means model\n",
    "model = KMeans(n_clusters=3, random_state=0)\n",
    "\n",
    "# Fit the model\n",
    "model.fit(stats_pca_df)\n",
    "\n",
    "# Predict clusters\n",
    "predictions = model.predict(stats_pca_df)\n",
    "\n",
    "# Add the predicted class columns\n",
    "stats_pca_df[\"class\"] = model.labels_\n",
    "stats_pca_df.head()"
   ]
  },
  {
   "cell_type": "code",
   "execution_count": null,
   "id": "ad180d61-13fb-4c9a-bbf9-4a8cd362c2d1",
   "metadata": {},
   "outputs": [],
   "source": [
    "stats_pca_df.hvplot.scatter(\n",
    "    x=\"principal component 1\",\n",
    "    y=\"principal component 2\",\n",
    "    hover_cols=[\"class\"],\n",
    "    by=\"class\",\n",
    ")"
   ]
  }
 ],
 "metadata": {
  "kernelspec": {
   "display_name": "mlenv",
   "language": "python",
   "name": "mlenv"
  },
  "language_info": {
   "codemirror_mode": {
    "name": "ipython",
    "version": 3
   },
   "file_extension": ".py",
   "mimetype": "text/x-python",
   "name": "python",
   "nbconvert_exporter": "python",
   "pygments_lexer": "ipython3",
   "version": "3.7.11"
  }
 },
 "nbformat": 4,
 "nbformat_minor": 5
}
